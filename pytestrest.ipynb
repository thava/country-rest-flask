{
 "cells": [
  {
   "cell_type": "code",
   "execution_count": 28,
   "metadata": {},
   "outputs": [],
   "source": [
    "# #  %load pytestrest.py\n",
    "#!thisenv/bin/python\n",
    "\n",
    "import requests\n",
    "from requests.auth import HTTPBasicAuth\n",
    "from pprint import pprint"
   ]
  },
  {
   "cell_type": "code",
   "execution_count": 29,
   "metadata": {},
   "outputs": [
    {
     "name": "stdout",
     "output_type": "stream",
     "text": [
      "<Response [200]>\n"
     ]
    }
   ],
   "source": [
    "\n",
    "url  = \"http://localhost:5000/country\"\n",
    "\n",
    "\n",
    "# headers = { \"x-api-key\" : \"my-api-key\", \"Content-Type\" : \"application/json\" }\n",
    "\n",
    "headers = { \"Content-Type\" : \"application/json\" }\n",
    "\n",
    "resp =  requests.get(url)\n",
    "pprint(resp)\n",
    "# pprint(resp.json())"
   ]
  },
  {
   "cell_type": "code",
   "execution_count": 30,
   "metadata": {},
   "outputs": [],
   "source": [
    " # dir(resp)"
   ]
  },
  {
   "cell_type": "code",
   "execution_count": 31,
   "metadata": {},
   "outputs": [
    {
     "name": "stdout",
     "output_type": "stream",
     "text": [
      "('{\"Example_Name1\":\"Example_Value1\",\"Example_Name2\":\"Example_Value2\",\"New '\n",
      " 'Property\":\"New Value\"}\\n')\n",
      "{'Example_Name1': 'Example_Value1',\n",
      " 'Example_Name2': 'Example_Value2',\n",
      " 'New Property': 'New Value'}\n"
     ]
    }
   ],
   "source": [
    "\n",
    "url  = \"http://localhost:5000/props\"\n",
    "resp =  requests.get(url, headers = headers)\n",
    "\n",
    "pprint(resp.text)\n",
    "pprint(resp.json())\n"
   ]
  },
  {
   "cell_type": "code",
   "execution_count": 32,
   "metadata": {},
   "outputs": [
    {
     "name": "stdout",
     "output_type": "stream",
     "text": [
      "{'New Name Req': 'New Value Req'}\n"
     ]
    }
   ],
   "source": [
    "\n",
    "url  = \"http://localhost:5000/prop\"\n",
    "\n",
    "resp =  requests.post(url, json = { 'name' : 'New Name Req', 'value' : 'New Value Req' },\n",
    "                           auth=HTTPBasicAuth('flaskrestuser', 'flaskrestpwd'))\n",
    "pprint(resp.json())\n"
   ]
  },
  {
   "cell_type": "code",
   "execution_count": 33,
   "metadata": {},
   "outputs": [
    {
     "name": "stdout",
     "output_type": "stream",
     "text": [
      "{'Example_Name1': 'Example_Value1',\n",
      " 'Example_Name2': 'Example_Value2',\n",
      " 'New Name Req': 'New Value Req',\n",
      " 'New Property': 'New Value'}\n"
     ]
    }
   ],
   "source": [
    "\n",
    "url  = \"http://localhost:5000/props\"\n",
    "resp = requests.get(url,headers=headers)\n",
    "pprint(resp.json())\n",
    "\n"
   ]
  },
  {
   "cell_type": "code",
   "execution_count": 34,
   "metadata": {},
   "outputs": [
    {
     "name": "stdout",
     "output_type": "stream",
     "text": [
      "{'result': 'Deleted'}\n",
      "{'Example_Name1': 'Example_Value1',\n",
      " 'Example_Name2': 'Example_Value2',\n",
      " 'New Property': 'New Value'}\n"
     ]
    }
   ],
   "source": [
    "url  = \"http://localhost:5000/prop\"\n",
    "\n",
    "resp =  requests.delete(url, json = { 'name' : 'New Name Req'},\n",
    "                           auth=HTTPBasicAuth('flaskrestuser', 'flaskrestpwd'))\n",
    "pprint(resp.json())\n",
    "\n",
    "url  = \"http://localhost:5000/props\"\n",
    "resp = requests.get(url,headers=headers)\n",
    "pprint(resp.json())\n"
   ]
  },
  {
   "cell_type": "code",
   "execution_count": 35,
   "metadata": {},
   "outputs": [],
   "source": [
    "\n",
    "#\n",
    "# Supported resp methods / fields ...\n",
    "#\n",
    "#    resp.apparent_encoding  resp.cookies    resp.history               resp.iter_lines  resp.raise_for_status  resp.status_code\n",
    "#    resp.close              resp.elapsed    resp.is_permanent_redirect resp.json        resp.raw               resp.text     \n",
    "#    resp.connection         resp.encoding   resp.is_redirect           resp.links       resp.reason            resp.url\n",
    "#    resp.content            resp.headers    resp.iter_content          resp.ok          resp.request\n",
    "#\n"
   ]
  }
 ],
 "metadata": {
  "kernelspec": {
   "display_name": "Python 3",
   "language": "python",
   "name": "python3"
  },
  "language_info": {
   "codemirror_mode": {
    "name": "ipython",
    "version": 3
   },
   "file_extension": ".py",
   "mimetype": "text/x-python",
   "name": "python",
   "nbconvert_exporter": "python",
   "pygments_lexer": "ipython3",
   "version": "3.6.5"
  }
 },
 "nbformat": 4,
 "nbformat_minor": 2
}
